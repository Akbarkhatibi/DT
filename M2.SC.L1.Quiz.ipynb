{
 "cells": [
  {
   "cell_type": "markdown",
   "id": "1acf337f",
   "metadata": {},
   "source": [
    "# Module 2, Stream C, Lesson 1 - Time series Quiz"
   ]
  },
  {
   "cell_type": "markdown",
   "id": "55bba9b5",
   "metadata": {},
   "source": [
    "1. Time series data can be of the following type:  \n",
    "\n",
    "    a. Timestamps, or specific instants in time  \n",
    "    b. Fixed periods  \n",
    "    c. Intervals of time, with a start and end timestamp   \n",
    "    d. Elapsed time  \n",
    "    e. All of the above **(correct)**  "
   ]
  },
  {
   "cell_type": "markdown",
   "id": "c32b448c",
   "metadata": {},
   "source": [
    "2. What is the output of the following snippet:  "
   ]
  },
  {
   "cell_type": "code",
   "execution_count": 9,
   "id": "d97675f3",
   "metadata": {},
   "outputs": [
    {
     "data": {
      "text/plain": [
       "[datetime.datetime(1996, 10, 31, 0, 0), datetime.datetime(1989, 11, 9, 0, 0)]"
      ]
     },
     "execution_count": 9,
     "metadata": {},
     "output_type": "execute_result"
    }
   ],
   "source": [
    "from datetime import datetime \n",
    "\n",
    "datestrs = ['10/31/1996', '11/9/1989']\n",
    "[datetime.strptime(x, '%m/%d/%Y') for x in datestrs]"
   ]
  },
  {
   "cell_type": "markdown",
   "id": "9f83bb9a",
   "metadata": {},
   "source": [
    "    a. datestrs(1996,31,10), datestrs(1989,9,11)  \n",
    "    b. datetime('10/31/1996')    \n",
    "       datetime('1989,9,11')  \n",
    "    c. [datetime.datetime(1996, 10, 31, 0, 0), datetime.datetime(1989, 11, 9, 0, 0)] **(correct)**"
   ]
  },
  {
   "cell_type": "markdown",
   "id": "5a4a69be",
   "metadata": {},
   "source": [
    "3. What does the `DateFrame.count()` built-in function do in the next snippet?"
   ]
  },
  {
   "cell_type": "code",
   "execution_count": 8,
   "id": "db72284c",
   "metadata": {},
   "outputs": [
    {
     "name": "stdout",
     "output_type": "stream",
     "text": [
      "2000-01-01    0\n",
      "2016-01-03    4\n",
      "2023-01-12    2\n",
      "dtype: int32\n",
      "2000-01-01    1\n",
      "2016-01-03    1\n",
      "2023-01-12    3\n",
      "dtype: int64\n",
      "2000-01-01    0\n",
      "2023-01-12    1\n",
      "2023-01-12    2\n",
      "2023-01-12    3\n",
      "2016-01-03    4\n",
      "dtype: int32\n"
     ]
    }
   ],
   "source": [
    "import pandas as pd\n",
    "import numpy as np\n",
    "\n",
    "dates = pd.DatetimeIndex(['1/1/2000', '1/12/2023', '1/12/2023', '1/12/2023','1/3/2016'])\n",
    "duplic = pd.Series(np.arange(len(dates)), index=dates)\n",
    "uniq = duplic.index.is_unique\n",
    "if uniq == False:\n",
    "    grouping = duplic.groupby(level=0)\n",
    "    print(grouping.mean())\n",
    "    print(grouping.count())\n",
    "    print(duplic)\n",
    "    "
   ]
  },
  {
   "cell_type": "markdown",
   "id": "7de3ba5f",
   "metadata": {},
   "source": [
    "a. Count the number of times the mean value is repeated  \n",
    "b. Count the number of values given for a date group **(correct)**  \n",
    "c. Count the number of duplicated items based on the boolean output of `is_unique` attribute  "
   ]
  },
  {
   "cell_type": "markdown",
   "id": "42f63c77",
   "metadata": {},
   "source": [
    "4. Generic time series have not fixed frequencies, what pandas tool allow resampling the data on a monthly basis for the following snippet? "
   ]
  },
  {
   "cell_type": "code",
   "execution_count": 30,
   "id": "1f77d8ea",
   "metadata": {},
   "outputs": [
    {
     "name": "stdout",
     "output_type": "stream",
     "text": [
      "Original time series = \n",
      " 2011-01-02   -1.155201\n",
      "2011-03-05   -0.071243\n",
      "2011-08-07    2.166473\n",
      "2011-09-08    1.100958\n",
      "2012-01-10   -0.287590\n",
      "2012-05-12    0.465290\n",
      "dtype: float64\n"
     ]
    },
    {
     "data": {
      "text/plain": [
       "2011-01-02 00:00:00   -1.155201\n",
       "2011-01-02 00:03:00         NaN\n",
       "2011-01-02 00:06:00         NaN\n",
       "2011-01-02 00:09:00         NaN\n",
       "2011-01-02 00:12:00         NaN\n",
       "                         ...   \n",
       "2012-05-11 23:48:00         NaN\n",
       "2012-05-11 23:51:00         NaN\n",
       "2012-05-11 23:54:00         NaN\n",
       "2012-05-11 23:57:00         NaN\n",
       "2012-05-12 00:00:00    0.465290\n",
       "Freq: 3T, Length: 238081, dtype: float64"
      ]
     },
     "execution_count": 30,
     "metadata": {},
     "output_type": "execute_result"
    }
   ],
   "source": [
    " dates = [datetime(2011, 1, 2), datetime(2011, 3, 5), datetime(2011, 8, 7), \n",
    "         datetime(2011, 9, 8), datetime(2012, 1, 10), datetime(2012, 5, 12)]\n",
    "\n",
    "time_series = pd.Series(np.random.randn(6), index=dates)\n",
    "print('Original time series = \\n', time_series)\n"
   ]
  },
  {
   "cell_type": "markdown",
   "id": "7d973318",
   "metadata": {},
   "source": [
    "a. time_series.resample('M').mean()  **(correct)**  \n",
    "b. time_series.resample('3T').mean()  \n",
    "c. It is not possible because the series does not have the same starting date"
   ]
  },
  {
   "cell_type": "markdown",
   "id": "96bf6b50",
   "metadata": {},
   "source": [
    "5. What does the `shift()` method do to the following series?"
   ]
  },
  {
   "cell_type": "code",
   "execution_count": 31,
   "id": "775d0573",
   "metadata": {},
   "outputs": [
    {
     "data": {
      "text/plain": [
       "2011-01-31         NaN\n",
       "2011-02-28         NaN\n",
       "2011-03-31    0.140274\n",
       "2011-04-30         NaN\n",
       "2011-05-31   -1.304311\n",
       "2011-06-30         NaN\n",
       "2011-07-31         NaN\n",
       "2011-08-31         NaN\n",
       "2011-09-30         NaN\n",
       "2011-10-31    0.931497\n",
       "2011-11-30   -2.474645\n",
       "2011-12-31         NaN\n",
       "2012-01-31         NaN\n",
       "2012-02-29         NaN\n",
       "2012-03-31    0.016415\n",
       "2012-04-30         NaN\n",
       "2012-05-31         NaN\n",
       "Freq: M, dtype: float64"
      ]
     },
     "execution_count": 31,
     "metadata": {},
     "output_type": "execute_result"
    }
   ],
   "source": [
    " dates = [datetime(2011, 1, 2), datetime(2011, 3, 5), datetime(2011, 8, 7), \n",
    "         datetime(2011, 9, 8), datetime(2012, 1, 10), datetime(2012, 5, 12)]\n",
    "\n",
    "time_series = pd.Series(np.random.randn(6), index=dates)\n",
    "time_series = time_series.resample('M').mean() \n",
    "time_series.shift(2) "
   ]
  },
  {
   "cell_type": "markdown",
   "id": "5d39d49b",
   "metadata": {},
   "source": [
    "a. The `shift()` method shifts the date index by two days    \n",
    "b. The `shift()` method shifts the date index by two months  \n",
    "c. The `shift()` method shifts the date index by two years  \n",
    "d. The `shift()` method shifts the values of the series by two columns leaving the date index unchanged  **(correct)**"
   ]
  },
  {
   "cell_type": "code",
   "execution_count": null,
   "id": "ab978fb6",
   "metadata": {},
   "outputs": [],
   "source": []
  }
 ],
 "metadata": {
  "kernelspec": {
   "display_name": "Python 3",
   "language": "python",
   "name": "python3"
  },
  "language_info": {
   "codemirror_mode": {
    "name": "ipython",
    "version": 3
   },
   "file_extension": ".py",
   "mimetype": "text/x-python",
   "name": "python",
   "nbconvert_exporter": "python",
   "pygments_lexer": "ipython3",
   "version": "3.7.13"
  }
 },
 "nbformat": 4,
 "nbformat_minor": 5
}
