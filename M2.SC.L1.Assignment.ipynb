{
 "cells": [
  {
   "cell_type": "markdown",
   "id": "f279b668",
   "metadata": {},
   "source": [
    "# Module 2, Stream C, Lesson 1 - Time series Assignment"
   ]
  },
  {
   "cell_type": "markdown",
   "id": "5bc2fc8e",
   "metadata": {},
   "source": [
    "# 1. City of Melbourne population forecast  \n",
    "\n",
    "Use the file \"City_of_Melbourne_Population_Forecasts_by_Small_Area_2020-2040.csv\" and do the data wrangling and munging needed to plot:  \n",
    "\n",
    "- The total population forecast for all the suburbs  \n",
    "    a. All genders, all age groups  \n",
    "    b. Divided by genders, all age groups  \n",
    "    c. Divided by genders, the three age groups with more population  \n",
    "- The population forecast for 3 suburbs  \n",
    "    a. All genders, all age groups  \n",
    "    b. Divided by genders, all age groups  \n",
    "    c. Divided by genders, the three age groups with more population"
   ]
  },
  {
   "cell_type": "code",
   "execution_count": null,
   "id": "f61c7e02",
   "metadata": {},
   "outputs": [],
   "source": []
  }
 ],
 "metadata": {
  "kernelspec": {
   "display_name": "Python 3",
   "language": "python",
   "name": "python3"
  },
  "language_info": {
   "codemirror_mode": {
    "name": "ipython",
    "version": 3
   },
   "file_extension": ".py",
   "mimetype": "text/x-python",
   "name": "python",
   "nbconvert_exporter": "python",
   "pygments_lexer": "ipython3",
   "version": "3.7.13"
  }
 },
 "nbformat": 4,
 "nbformat_minor": 5
}
