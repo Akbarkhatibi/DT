{
  "metadata": {
    "language_info": {
      "codemirror_mode": {
        "name": "python",
        "version": 3
      },
      "file_extension": ".py",
      "mimetype": "text/x-python",
      "name": "python",
      "nbconvert_exporter": "python",
      "pygments_lexer": "ipython3",
      "version": "3.8"
    },
    "kernelspec": {
      "name": "python",
      "display_name": "Python (Pyodide)",
      "language": "python"
    }
  },
  "nbformat_minor": 4,
  "nbformat": 4,
  "cells": [
    {
      "cell_type": "markdown",
      "source": "# Module 1, Lesson 3-  Assignment",
      "metadata": {}
    },
    {
      "cell_type": "markdown",
      "source": "## 1.   Improving fortune-telling function horoscope( ) \n\nJohn's PhD colleagues have foud out about his brand new function and now all of them want to get their fortune everyday. But... some of them do not know their constellation.  \n\nIn this assignment you will have to implement new functions to complement horoscope( ) and retrieve, interactively, the daily fortune based on the date of birth.\n\n### 1.1 Create a skyfortune( ) function that:   \n\n- Prints greetings and the twelve zodiac signs options  \n- Asks the user to input the number of their sign or write **\"no idea\"** to calculate their sign. Use `input( )` built-in function and store the user value in a variable \n- Include an `if`-statement to call either `horoscope( )` function when the user knows the sign or a new function  called **\"constellation\"**  \n- Create the new function `constellation( )` to request the birth date of the user, calculate the zodiac sign accordingly and print the zodiac sign for the user. Then, call `horoscope( )`",
      "metadata": {}
    },
    {
      "cell_type": "markdown",
      "source": "## 2.   Programming an elevator\n\n- Think about the challenge of programming one elevator in a 5-story building.  \n- Create a flow chart for a python program and describe the functions you will need. ",
      "metadata": {}
    },
    {
      "cell_type": "code",
      "source": "",
      "metadata": {},
      "execution_count": null,
      "outputs": []
    }
  ]
}