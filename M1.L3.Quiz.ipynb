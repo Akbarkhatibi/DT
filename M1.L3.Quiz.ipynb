{
  "metadata": {
    "language_info": {
      "codemirror_mode": {
        "name": "python",
        "version": 3
      },
      "file_extension": ".py",
      "mimetype": "text/x-python",
      "name": "python",
      "nbconvert_exporter": "python",
      "pygments_lexer": "ipython3",
      "version": "3.8"
    },
    "kernelspec": {
      "name": "python",
      "display_name": "Python (Pyodide)",
      "language": "python"
    }
  },
  "nbformat_minor": 4,
  "nbformat": 4,
  "cells": [
    {
      "cell_type": "markdown",
      "source": "# Module 1, Lesson 3 - Quiz  ",
      "metadata": {}
    },
    {
      "cell_type": "markdown",
      "source": "1. What is the output of the following function call",
      "metadata": {}
    },
    {
      "cell_type": "code",
      "source": "def details(name, age=20):\n    print(name, age)\n\ndetails('Neymar', 30)",
      "metadata": {
        "trusted": true
      },
      "execution_count": 7,
      "outputs": [
        {
          "name": "stdout",
          "text": "Neymar 30\n",
          "output_type": "stream"
        }
      ]
    },
    {
      "cell_type": "markdown",
      "source": "   a. Neymar, 20  \n   b. Neymar, 30 **(correct)**  \n   c. \"Neymar is 5 in reality\"",
      "metadata": {}
    },
    {
      "cell_type": "markdown",
      "source": "2. What is the output of the following `person( )` function call",
      "metadata": {}
    },
    {
      "cell_type": "code",
      "source": "def person(*args):\n    for i in args:\n        print(i)\n\nperson(name=\"Neymar\", age=\"30\")",
      "metadata": {
        "trusted": true
      },
      "execution_count": 9,
      "outputs": [
        {
          "ename": "<class 'TypeError'>",
          "evalue": "person() got an unexpected keyword argument 'name'",
          "traceback": [
            "\u001b[0;31m---------------------------------------------------------------------------\u001b[0m",
            "\u001b[0;31mTypeError\u001b[0m                                 Traceback (most recent call last)",
            "Cell \u001b[0;32mIn [9], line 5\u001b[0m\n\u001b[1;32m      2\u001b[0m     \u001b[38;5;28;01mfor\u001b[39;00m i \u001b[38;5;129;01min\u001b[39;00m args:\n\u001b[1;32m      3\u001b[0m         \u001b[38;5;28mprint\u001b[39m(i)\n\u001b[0;32m----> 5\u001b[0m \u001b[43mperson\u001b[49m\u001b[43m(\u001b[49m\u001b[43mname\u001b[49m\u001b[38;5;241;43m=\u001b[39;49m\u001b[38;5;124;43m\"\u001b[39;49m\u001b[38;5;124;43mNeymar\u001b[39;49m\u001b[38;5;124;43m\"\u001b[39;49m\u001b[43m,\u001b[49m\u001b[43m \u001b[49m\u001b[43mage\u001b[49m\u001b[38;5;241;43m=\u001b[39;49m\u001b[38;5;124;43m\"\u001b[39;49m\u001b[38;5;124;43m30\u001b[39;49m\u001b[38;5;124;43m\"\u001b[39;49m\u001b[43m)\u001b[49m\n",
            "\u001b[0;31mTypeError\u001b[0m: person() got an unexpected keyword argument 'name'"
          ],
          "output_type": "error"
        }
      ]
    },
    {
      "cell_type": "markdown",
      "source": "    a. **TypeError** **(correct)**  \n    b. Neymar    \n       30   \n    c. name  \n       age",
      "metadata": {}
    },
    {
      "cell_type": "markdown",
      "source": "3. Which is true for Python functions\n\n    a. Python functions can return only a single value  \n    b. Python functions do not return anything unless and until you add a return statement  \n    c. A function can take an unlimited number of arguments **(correct)**\n",
      "metadata": {}
    },
    {
      "cell_type": "markdown",
      "source": "4. What is the output of the following `presidential_salary( )` function call:",
      "metadata": {}
    },
    {
      "cell_type": "code",
      "source": "def presidential_salary(**kwargs):\n    for i in kwargs:\n        print(i)\n\npresidential_salary(emp=\"Trump\", salary=400000)",
      "metadata": {
        "trusted": true
      },
      "execution_count": 12,
      "outputs": [
        {
          "name": "stdout",
          "text": "emp\nsalary\n",
          "output_type": "stream"
        }
      ]
    },
    {
      "cell_type": "markdown",
      "source": "    a. He said he'd donate the last 6 months\n    b. TypeError\n    c. Trump  \n       400000  \n    d. (’emp’, ‘Trump’)\n       (‘salary’,400000)\n    e. emp\n       salary **(correct)**",
      "metadata": {}
    },
    {
      "cell_type": "markdown",
      "source": "5. What is the correct function declaration of above `details()` so the following can be executed successfully?",
      "metadata": {}
    },
    {
      "cell_type": "code",
      "source": "details(5, 35, 'hola')\ndetails('Soccer', 20)",
      "metadata": {
        "trusted": true
      },
      "execution_count": 16,
      "outputs": [
        {
          "ename": "<class 'TypeError'>",
          "evalue": "details() takes from 1 to 2 positional arguments but 3 were given",
          "traceback": [
            "\u001b[0;31m---------------------------------------------------------------------------\u001b[0m",
            "\u001b[0;31mTypeError\u001b[0m                                 Traceback (most recent call last)",
            "Cell \u001b[0;32mIn [16], line 1\u001b[0m\n\u001b[0;32m----> 1\u001b[0m \u001b[43mdetails\u001b[49m\u001b[43m(\u001b[49m\u001b[38;5;241;43m5\u001b[39;49m\u001b[43m,\u001b[49m\u001b[43m \u001b[49m\u001b[38;5;241;43m35\u001b[39;49m\u001b[43m,\u001b[49m\u001b[43m \u001b[49m\u001b[38;5;124;43m'\u001b[39;49m\u001b[38;5;124;43mhola\u001b[39;49m\u001b[38;5;124;43m'\u001b[39;49m\u001b[43m)\u001b[49m\n\u001b[1;32m      2\u001b[0m details(\u001b[38;5;124m'\u001b[39m\u001b[38;5;124mSoccer\u001b[39m\u001b[38;5;124m'\u001b[39m, \u001b[38;5;241m20\u001b[39m)\n",
            "\u001b[0;31mTypeError\u001b[0m: details() takes from 1 to 2 positional arguments but 3 were given"
          ],
          "output_type": "error"
        }
      ]
    },
    {
      "cell_type": "markdown",
      "source": "    a. def details(**args)\n    b. def details(args*)\n    c. It is not possible in Python\n    d. def details(*data) **(correct)**",
      "metadata": {}
    },
    {
      "cell_type": "code",
      "source": "",
      "metadata": {},
      "execution_count": null,
      "outputs": []
    }
  ]
}